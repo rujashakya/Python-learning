{
 "cells": [
  {
   "cell_type": "markdown",
   "metadata": {},
   "source": [
    "Building a number guessing game that gives 3 chances"
   ]
  },
  {
   "cell_type": "code",
   "execution_count": 4,
   "metadata": {},
   "outputs": [
    {
     "name": "stdout",
     "output_type": "stream",
     "text": [
      "You are not able to guess\n",
      "You are not able to guess\n",
      "You are not able to guess\n"
     ]
    }
   ],
   "source": [
    "\n",
    "import random as deu\n",
    "chances = 3\n",
    "ruja = deu.randint(1,10)\n",
    "for chance in range(1,chances+1):\n",
    "    guess = int(input(\"Your guess: \"))\n",
    "    if(ruja == guess):\n",
    "        print(\"You've guessed it right\")\n",
    "        break\n",
    "    else:\n",
    "        print(\"You are not able to guess\")"
   ]
  },
  {
   "cell_type": "markdown",
   "metadata": {},
   "source": [
    "Genereate Fibonnaci series upto 10th term"
   ]
  },
  {
   "cell_type": "code",
   "execution_count": 1,
   "metadata": {},
   "outputs": [
    {
     "name": "stdout",
     "output_type": "stream",
     "text": [
      "0, 1, 1, 2, 3, 5, 8, 13, 21, 34, "
     ]
    }
   ],
   "source": [
    "def fibonacci(n):\n",
    "    if n <= 1:\n",
    "        return n\n",
    "    return fibonacci(n - 1) + fibonacci(n - 2)\n",
    "\n",
    "for i in range(10):\n",
    "    print(fibonacci(i), end=\", \")\n"
   ]
  },
  {
   "cell_type": "code",
   "execution_count": 2,
   "metadata": {},
   "outputs": [
    {
     "name": "stdout",
     "output_type": "stream",
     "text": [
      "0\n",
      "1\n",
      "1\n",
      "2\n",
      "3\n",
      "5\n",
      "8\n",
      "13\n",
      "21\n",
      "34\n"
     ]
    }
   ],
   "source": [
    "a=0\n",
    "b=1\n",
    "print(a)\n",
    "print(b)\n",
    "for fibo in range(8):\n",
    "    c = a+b\n",
    "    print(c)\n",
    "    a = b\n",
    "    b = c\n"
   ]
  },
  {
   "cell_type": "markdown",
   "metadata": {},
   "source": [
    "Ask a user input for character ans then return if its a consonant or a vowel along with changing the character to uppercase if its lowercase and vice versa"
   ]
  },
  {
   "cell_type": "code",
   "execution_count": 1,
   "metadata": {},
   "outputs": [
    {
     "name": "stdout",
     "output_type": "stream",
     "text": [
      "r is Lower case and a Consonant sound\n"
     ]
    }
   ],
   "source": [
    "chareu = input(\"Enter a char: \")\n",
    "casetype = \"Upper\" if chareu.isupper() else \"Lower\"\n",
    "arkotype = \"Vowel\" if chareu.lower() in \"aeiou\" else \"Consonant\"\n",
    "print(f\"{chareu} is {casetype} case and a {arkotype} sound\")\n"
   ]
  }
 ],
 "metadata": {
  "kernelspec": {
   "display_name": "Python 3",
   "language": "python",
   "name": "python3"
  },
  "language_info": {
   "codemirror_mode": {
    "name": "ipython",
    "version": 3
   },
   "file_extension": ".py",
   "mimetype": "text/x-python",
   "name": "python",
   "nbconvert_exporter": "python",
   "pygments_lexer": "ipython3",
   "version": "3.13.2"
  }
 },
 "nbformat": 4,
 "nbformat_minor": 2
}
