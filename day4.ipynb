{
 "cells": [
  {
   "cell_type": "markdown",
   "metadata": {},
   "source": [
    "While loop we can execute a set of statements as long as  a a condition is true"
   ]
  },
  {
   "cell_type": "code",
   "execution_count": 8,
   "metadata": {},
   "outputs": [
    {
     "name": "stdout",
     "output_type": "stream",
     "text": [
      "*\n",
      "**\n",
      "***\n",
      "****\n"
     ]
    }
   ],
   "source": [
    "x=1\n",
    "while x<5 : \n",
    "    print('*'*x)\n",
    "    x+=1"
   ]
  },
  {
   "cell_type": "markdown",
   "metadata": {},
   "source": [
    "Else Statement is also used to execute a block of code when the conditioon is no longer true"
   ]
  },
  {
   "cell_type": "code",
   "execution_count": 11,
   "metadata": {},
   "outputs": [
    {
     "name": "stdout",
     "output_type": "stream",
     "text": [
      " Now false\n"
     ]
    }
   ],
   "source": [
    "a=1\n",
    "while a>5:\n",
    "    print(\"hi\")\n",
    "else:\n",
    "    print(\" Now false\")"
   ]
  },
  {
   "cell_type": "markdown",
   "metadata": {},
   "source": [
    "Indentation vaneko is 4 spaces after else {} ko satta ma use huncha \n"
   ]
  },
  {
   "cell_type": "code",
   "execution_count": 14,
   "metadata": {},
   "outputs": [
    {
     "name": "stdout",
     "output_type": "stream",
     "text": [
      "56 is a positive number \n",
      "56 is a even number.\n"
     ]
    }
   ],
   "source": [
    "a= int(input(\"Enter a number:\"))\n",
    "\n",
    "if a>0:\n",
    "    print(f\"{a} is a positive number \")\n",
    "\n",
    "    if a % 2 == 0:\n",
    "        print(f\"{a} is a even number.\")\n",
    "    else:\n",
    "        print(f\"{a} is a odd number.\")\n",
    "elif a < 0:\n",
    "    print(f\"{a} is a negative number.\")\n",
    "    if a % 2 == 0:\n",
    "        print(f\"{a} is a even number.\")\n",
    "    else:\n",
    "        print(f\"{a} is a odd number.\")\n",
    "else:\n",
    "    print(\"The number is zero.\")"
   ]
  },
  {
   "cell_type": "code",
   "execution_count": 20,
   "metadata": {},
   "outputs": [
    {
     "name": "stdout",
     "output_type": "stream",
     "text": [
      "*\n",
      "**\n",
      "***\n",
      "****\n",
      "*****\n"
     ]
    }
   ],
   "source": [
    "\n",
    "for i in range(6):\n",
    "  if(i!=0):\n",
    "   print(\"\" *((5-i)//2) + \"*\" * i)"
   ]
  },
  {
   "cell_type": "code",
   "execution_count": 23,
   "metadata": {},
   "outputs": [
    {
     "name": "stdout",
     "output_type": "stream",
     "text": [
      "*****\n",
      "****\n",
      "***\n",
      "**\n",
      "*\n"
     ]
    }
   ],
   "source": [
    "for i in range(5,0,-1):\n",
    "  if(i!=0):\n",
    "   print(\"\" *((5-i)//2) + \"*\" * i)\n",
    "   "
   ]
  },
  {
   "cell_type": "code",
   "execution_count": 38,
   "metadata": {},
   "outputs": [
    {
     "name": "stdout",
     "output_type": "stream",
     "text": [
      "    *\n",
      "   ***\n",
      "  *****\n",
      " *******\n",
      "*********\n",
      " *******\n",
      "  *****\n",
      "   ***\n",
      "    *\n"
     ]
    }
   ],
   "source": [
    "for i in range(1, 11, 2):\n",
    "    print(\" \" * ((10 - i) // 2) + \"*\" * i)\n",
    "\n",
    "for i in range(7, 0, -2):\n",
    "    print(\" \" * ((10 - i) // 2) + \"*\" * i)\n"
   ]
  },
  {
   "cell_type": "code",
   "execution_count": 48,
   "metadata": {},
   "outputs": [
    {
     "name": "stdout",
     "output_type": "stream",
     "text": [
      "\n",
      "1\n",
      "12\n",
      "123\n",
      "1234\n",
      "12345\n"
     ]
    }
   ],
   "source": [
    "for i in range(1, 7):\n",
    "    for j in range(1,i):\n",
    "        print(j , end=\"\")\n",
    "    #The end parameter controls what is printed after the value is printed.\n",
    "    print()\n",
    "    #print() khali print print garda chahi khali space print garcha ani next ko print tala huncha \n"
   ]
  },
  {
   "cell_type": "code",
   "execution_count": 1,
   "metadata": {},
   "outputs": [
    {
     "name": "stdout",
     "output_type": "stream",
     "text": [
      "34 is not an Armstrong number.\n"
     ]
    }
   ],
   "source": [
    "x_int = int(input(\"Enter a number: \"))\n",
    "x_str = str(x_int)\n",
    "x_len = len(x_str)\n",
    "sum = 0\n",
    "for i in range(x_len):\n",
    "    sum=sum+(int(x_str[i])**x_len)\n",
    "print(f\"{x_int} is an Armstrong number.\") if x_int == sum else print(f\"{x_int} is not an Armstrong number.\")"
   ]
  }
 ],
 "metadata": {
  "kernelspec": {
   "display_name": "ruja",
   "language": "python",
   "name": "python3"
  },
  "language_info": {
   "codemirror_mode": {
    "name": "ipython",
    "version": 3
   },
   "file_extension": ".py",
   "mimetype": "text/x-python",
   "name": "python",
   "nbconvert_exporter": "python",
   "pygments_lexer": "ipython3",
   "version": "3.13.2"
  }
 },
 "nbformat": 4,
 "nbformat_minor": 2
}
