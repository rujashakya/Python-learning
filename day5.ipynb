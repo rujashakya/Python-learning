{
 "cells": [
  {
   "cell_type": "markdown",
   "metadata": {},
   "source": [
    "## list\n",
    "\n",
    "list is mutable\n",
    "array ma aautai type ko values huna parcha where as list ma chahi diff type huna milcha \n",
    "\n",
    "\n"
   ]
  },
  {
   "cell_type": "code",
   "execution_count": 5,
   "metadata": {},
   "outputs": [
    {
     "name": "stdout",
     "output_type": "stream",
     "text": [
      "[1, 2, 3, 4, 'ruja']\n",
      "1\n"
     ]
    }
   ],
   "source": [
    "my_list=[1,2,3,4,\"ruja\"]\n",
    "print(my_list)\n",
    "print(my_list[-5])"
   ]
  },
  {
   "cell_type": "markdown",
   "metadata": {},
   "source": [
    "negative indexing in huncha with the last irem being -1 followed by -2,-3,-4"
   ]
  },
  {
   "cell_type": "code",
   "execution_count": 30,
   "metadata": {},
   "outputs": [
    {
     "name": "stdout",
     "output_type": "stream",
     "text": [
      "ruja\n",
      "False\n"
     ]
    }
   ],
   "source": [
    "ml=['code', 'food', 'students', 'ruja','ashwesha']\n",
    "print(ml[-2])\n",
    "print('python ' in ml)\n"
   ]
  },
  {
   "cell_type": "markdown",
   "metadata": {},
   "source": [
    "len() is used to dertermine number of "
   ]
  },
  {
   "cell_type": "code",
   "execution_count": 20,
   "metadata": {},
   "outputs": [
    {
     "name": "stdout",
     "output_type": "stream",
     "text": [
      "['students', 'ruja', 'ashwesha']\n"
     ]
    }
   ],
   "source": [
    "print(ml[-3:])"
   ]
  },
  {
   "cell_type": "code",
   "execution_count": 22,
   "metadata": {},
   "outputs": [
    {
     "name": "stdout",
     "output_type": "stream",
     "text": [
      "machine learning\n",
      "['code', 'food', 'machine learning', 'ruja', 'ashwesha']\n"
     ]
    }
   ],
   "source": [
    "ml[2]='machine learning'\n",
    "print(ml[2])\n",
    "print(ml)"
   ]
  },
  {
   "cell_type": "code",
   "execution_count": 28,
   "metadata": {},
   "outputs": [
    {
     "name": "stdout",
     "output_type": "stream",
     "text": [
      "[1, 'ram', 3, True]\n",
      "<class 'bool'>\n"
     ]
    }
   ],
   "source": [
    "ruja_list=[1, 'ram', 3, True]\n",
    "print(ruja_list)\n",
    "print(type(ruja_list[-1]))"
   ]
  },
  {
   "cell_type": "code",
   "execution_count": 31,
   "metadata": {},
   "outputs": [
    {
     "data": {
      "text/plain": [
       "True"
      ]
     },
     "execution_count": 31,
     "metadata": {},
     "output_type": "execute_result"
    }
   ],
   "source": [
    "ruja_list.pop()"
   ]
  },
  {
   "cell_type": "code",
   "execution_count": 40,
   "metadata": {},
   "outputs": [
    {
     "name": "stdout",
     "output_type": "stream",
     "text": [
      "[1, 2, 4]\n",
      "[1, 4]\n"
     ]
    }
   ],
   "source": [
    "a=[1,2,3]\n",
    "#a.pop()\n",
    "a.pop()\n",
    "a.append(4)\n",
    "print(a)\n",
    "a.remove(2)\n",
    "print(a)"
   ]
  },
  {
   "cell_type": "code",
   "execution_count": 42,
   "metadata": {},
   "outputs": [
    {
     "name": "stdout",
     "output_type": "stream",
     "text": [
      "[1, 4, 5, 2, 1, 2]\n"
     ]
    }
   ],
   "source": [
    "a=[1,2,4,5,2,1,2]\n",
    "a.remove(2)\n",
    "print(a)"
   ]
  },
  {
   "cell_type": "code",
   "execution_count": 48,
   "metadata": {},
   "outputs": [
    {
     "name": "stdout",
     "output_type": "stream",
     "text": [
      "['BCA', 'BE']\n"
     ]
    }
   ],
   "source": [
    "b=['BCA','CSIT', 'BE']\n",
    "# b.remove(b[1])\n",
    "del b[1]\n",
    "print(b)"
   ]
  },
  {
   "cell_type": "code",
   "execution_count": 53,
   "metadata": {},
   "outputs": [
    {
     "name": "stdout",
     "output_type": "stream",
     "text": [
      "[3, 8, 10]\n"
     ]
    }
   ],
   "source": [
    "a=[2,3,4]\n",
    "b=[1,5,6]\n",
    "c=[0,0,0]\n",
    "for i in range(len(a)):\n",
    "    c[i] =a[i]+b[i]\n",
    "print(c)"
   ]
  },
  {
   "cell_type": "code",
   "execution_count": 55,
   "metadata": {},
   "outputs": [
    {
     "name": "stdout",
     "output_type": "stream",
     "text": [
      "[1, 2, 3, 6, 4, 5]\n"
     ]
    }
   ],
   "source": [
    "a=[1,2,3,4,5]\n",
    "a.insert(3,6)\n",
    "print(a)"
   ]
  },
  {
   "cell_type": "code",
   "execution_count": 56,
   "metadata": {},
   "outputs": [
    {
     "name": "stdout",
     "output_type": "stream",
     "text": [
      "[5, 4, 6, 3, 2, 1]\n"
     ]
    }
   ],
   "source": [
    "a.reverse()\n",
    "print(a)"
   ]
  },
  {
   "cell_type": "code",
   "execution_count": 63,
   "metadata": {},
   "outputs": [
    {
     "name": "stdout",
     "output_type": "stream",
     "text": [
      "['ashish', 'ashwesha', 'nikesh', 'ruja', 'sujita']\n",
      "['sujita', 'ruja', 'nikesh', 'ashwesha', 'ashish']\n"
     ]
    }
   ],
   "source": [
    "c=['ruja', 'ashwesha','sujita', 'nikesh','ashish']\n",
    "c.sort()\n",
    "print(c)\n",
    "c.sort(reverse=True)\n",
    "print(c)"
   ]
  },
  {
   "cell_type": "code",
   "execution_count": null,
   "metadata": {},
   "outputs": [
    {
     "name": "stdout",
     "output_type": "stream",
     "text": [
      "['Abhinab', 'Ruja', 'ashish', 'chirayu']\n"
     ]
    }
   ],
   "source": [
    "x=['Ruja','Abhinab','chirayu','ashish']\n",
    "x.sort()\n",
    "print(x)\n",
    "# 65 Upper case and 97 vaneko chahi lower case "
   ]
  },
  {
   "cell_type": "code",
   "execution_count": 70,
   "metadata": {},
   "outputs": [
    {
     "name": "stdout",
     "output_type": "stream",
     "text": [
      "[[1, 2, 3, 4], [3, 4, 5, 6]]\n",
      "6\n"
     ]
    }
   ],
   "source": [
    "two_list=[[1,2,3,4],[3,4,5,6]]\n",
    "print(two_list)\n",
    "print(two_list[1][3])"
   ]
  },
  {
   "cell_type": "code",
   "execution_count": null,
   "metadata": {},
   "outputs": [],
   "source": [
    "# 2D Array (Matrix with 3 rows and 3 columns)\n",
    "matrix = [\n",
    "    [1, 2, 3], \n",
    "    [4, 5, 6],  \n",
    "    [7, 8, 9]   \n",
    "]\n",
    "\n",
    "print(matrix)            \n",
    "print(matrix[1][2])     "
   ]
  }
 ],
 "metadata": {
  "kernelspec": {
   "display_name": "ruja",
   "language": "python",
   "name": "python3"
  },
  "language_info": {
   "codemirror_mode": {
    "name": "ipython",
    "version": 3
   },
   "file_extension": ".py",
   "mimetype": "text/x-python",
   "name": "python",
   "nbconvert_exporter": "python",
   "pygments_lexer": "ipython3",
   "version": "3.13.2"
  }
 },
 "nbformat": 4,
 "nbformat_minor": 2
}
